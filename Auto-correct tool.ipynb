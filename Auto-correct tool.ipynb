{
 "cells": [
  {
   "cell_type": "code",
   "execution_count": 1,
   "metadata": {},
   "outputs": [
    {
     "name": "stdout",
     "output_type": "stream",
     "text": [
      "Collecting autocorrect\n",
      "  Downloading autocorrect-2.6.1.tar.gz (622 kB)\n",
      "     ---------------------------------------- 0.0/622.8 kB ? eta -:--:--\n",
      "     -- ---------------------------------- 41.0/622.8 kB 960.0 kB/s eta 0:00:01\n",
      "     ------ ------------------------------- 112.6/622.8 kB 1.3 MB/s eta 0:00:01\n",
      "     ------------ ------------------------- 204.8/622.8 kB 1.6 MB/s eta 0:00:01\n",
      "     ----------------------- -------------- 389.1/622.8 kB 2.2 MB/s eta 0:00:01\n",
      "     -------------------------------------  614.4/622.8 kB 2.8 MB/s eta 0:00:01\n",
      "     -------------------------------------- 622.8/622.8 kB 2.5 MB/s eta 0:00:00\n",
      "  Preparing metadata (setup.py): started\n",
      "  Preparing metadata (setup.py): finished with status 'done'\n",
      "Building wheels for collected packages: autocorrect\n",
      "  Building wheel for autocorrect (setup.py): started\n",
      "  Building wheel for autocorrect (setup.py): finished with status 'done'\n",
      "  Created wheel for autocorrect: filename=autocorrect-2.6.1-py3-none-any.whl size=622390 sha256=2726748078a4cce295cfa70b5487704d05a8a5e9e7aeb5af4be6306071ded447\n",
      "  Stored in directory: c:\\users\\prati\\appdata\\local\\pip\\cache\\wheels\\ab\\0f\\23\\3c010c3fd877b962146e7765f9e9b08026cac8b035094c5750\n",
      "Successfully built autocorrect\n",
      "Installing collected packages: autocorrect\n",
      "Successfully installed autocorrect-2.6.1\n",
      "Note: you may need to restart the kernel to use updated packages.\n"
     ]
    },
    {
     "name": "stderr",
     "output_type": "stream",
     "text": [
      "\n",
      "[notice] A new release of pip is available: 23.0.1 -> 23.1.2\n",
      "[notice] To update, run: python.exe -m pip install --upgrade pip\n"
     ]
    }
   ],
   "source": [
    "%pip install autocorrect"
   ]
  },
  {
   "cell_type": "code",
   "execution_count": 2,
   "metadata": {},
   "outputs": [
    {
     "name": "stdout",
     "output_type": "stream",
     "text": [
      "Corrected Word: accident\n"
     ]
    }
   ],
   "source": [
    "from autocorrect import Speller\n",
    "\n",
    "def suggest_correction(word):\n",
    "    spell = Speller(lang='en')\n",
    "    correction = spell(word)\n",
    "    return correction\n",
    "\n",
    "misspelled_word = \"acccident\"\n",
    "correction = suggest_correction(misspelled_word)\n",
    "\n",
    "print(\"Corrected Word:\", correction)\n"
   ]
  },
  {
   "cell_type": "code",
   "execution_count": null,
   "metadata": {},
   "outputs": [],
   "source": []
  }
 ],
 "metadata": {
  "kernelspec": {
   "display_name": "Python 3",
   "language": "python",
   "name": "python3"
  },
  "language_info": {
   "codemirror_mode": {
    "name": "ipython",
    "version": 3
   },
   "file_extension": ".py",
   "mimetype": "text/x-python",
   "name": "python",
   "nbconvert_exporter": "python",
   "pygments_lexer": "ipython3",
   "version": "3.9.1"
  },
  "orig_nbformat": 4
 },
 "nbformat": 4,
 "nbformat_minor": 2
}
